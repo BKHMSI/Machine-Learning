{
 "cells": [
  {
   "cell_type": "code",
   "execution_count": 6,
   "metadata": {
    "collapsed": true
   },
   "outputs": [],
   "source": [
    "from __future__ import print_function\n",
    "\n",
    "import numpy as np\n",
    "import tensorflow as tf\n",
    "\n",
    "from keras.datasets import mnist\n",
    "from keras.models import Sequential\n",
    "from keras.layers import Conv2D, MaxPooling2D\n",
    "from keras.layers.core import Dense, Dropout, Flatten\n",
    "from keras.utils import np_utils\n",
    "\n",
    "np.random.seed(1337)  # for reproducibility"
   ]
  },
  {
   "cell_type": "code",
   "execution_count": 7,
   "metadata": {
    "collapsed": true
   },
   "outputs": [],
   "source": [
    "config = tf.ConfigProto()\n",
    "config.gpu_options.allow_growth=True\n",
    "config.gpu_options.per_process_gpu_memory_fraction = 0.5\n",
    "sess = tf.Session(config=config)"
   ]
  },
  {
   "cell_type": "code",
   "execution_count": 8,
   "metadata": {
    "collapsed": true
   },
   "outputs": [],
   "source": [
    "batch_size = 128\n",
    "num_classes = 10\n",
    "epochs = 15\n",
    "img_rows = img_cols = 28\n",
    "input_shape = (img_rows, img_cols, 1)"
   ]
  },
  {
   "cell_type": "code",
   "execution_count": 9,
   "metadata": {
    "collapsed": true
   },
   "outputs": [],
   "source": [
    "(X_train, y_train), (X_test, y_test) = mnist.load_data()"
   ]
  },
  {
   "cell_type": "code",
   "execution_count": 10,
   "metadata": {
    "collapsed": true
   },
   "outputs": [],
   "source": [
    "X_train = X_train.reshape(X_train.shape[0], img_rows, img_cols, 1)\n",
    "X_test = X_test.reshape(X_test.shape[0], img_rows, img_cols, 1)"
   ]
  },
  {
   "cell_type": "code",
   "execution_count": 11,
   "metadata": {},
   "outputs": [
    {
     "name": "stdout",
     "output_type": "stream",
     "text": [
      "X_train shape: (60000, 28, 28, 1)\n",
      "60000 train images\n",
      "10000 test images\n"
     ]
    }
   ],
   "source": [
    "X_train = X_train.astype('float32')\n",
    "X_test = X_test.astype('float32')\n",
    "X_train /= 255\n",
    "X_test /= 255\n",
    "\n",
    "print('X_train shape:', X_train.shape)\n",
    "print(X_train.shape[0], 'train images')\n",
    "print(X_test.shape[0], 'test images')"
   ]
  },
  {
   "cell_type": "code",
   "execution_count": 12,
   "metadata": {
    "collapsed": true
   },
   "outputs": [],
   "source": [
    "# convert class vectors to binary class matrices\n",
    "Y_train = np_utils.to_categorical(y_train, num_classes)\n",
    "Y_test = np_utils.to_categorical(y_test, num_classes)"
   ]
  },
  {
   "cell_type": "code",
   "execution_count": 13,
   "metadata": {
    "collapsed": true
   },
   "outputs": [],
   "source": [
    "model = Sequential()\n",
    "model.add(Conv2D(32, kernel_size=(3, 3), activation='relu', input_shape=input_shape))\n",
    "model.add(Conv2D(64, (3, 3), activation='relu'))\n",
    "model.add(MaxPooling2D(pool_size=(2, 2)))\n",
    "model.add(Dropout(0.25))\n",
    "model.add(Flatten())\n",
    "model.add(Dense(128, activation='relu'))\n",
    "model.add(Dropout(0.5))\n",
    "model.add(Dense(num_classes, activation='softmax'))\n",
    "\n",
    "model.compile(loss='categorical_crossentropy', optimizer='adam', metrics=['accuracy'])"
   ]
  },
  {
   "cell_type": "code",
   "execution_count": 14,
   "metadata": {},
   "outputs": [
    {
     "name": "stdout",
     "output_type": "stream",
     "text": [
      "Train on 60000 samples, validate on 10000 samples\n",
      "Epoch 1/15\n",
      "60000/60000 [==============================] - 4s - loss: 0.2489 - acc: 0.9241 - val_loss: 0.0509 - val_acc: 0.9832\n",
      "Epoch 2/15\n",
      "60000/60000 [==============================] - 3s - loss: 0.0886 - acc: 0.9741 - val_loss: 0.0393 - val_acc: 0.9875\n",
      "Epoch 3/15\n",
      "60000/60000 [==============================] - 3s - loss: 0.0664 - acc: 0.9800 - val_loss: 0.0336 - val_acc: 0.9888\n",
      "Epoch 4/15\n",
      "60000/60000 [==============================] - 3s - loss: 0.0541 - acc: 0.9830 - val_loss: 0.0311 - val_acc: 0.9898\n",
      "Epoch 5/15\n",
      "60000/60000 [==============================] - 3s - loss: 0.0453 - acc: 0.9861 - val_loss: 0.0296 - val_acc: 0.9892\n",
      "Epoch 6/15\n",
      "60000/60000 [==============================] - 3s - loss: 0.0398 - acc: 0.9878 - val_loss: 0.0274 - val_acc: 0.9912\n",
      "Epoch 7/15\n",
      "60000/60000 [==============================] - 3s - loss: 0.0356 - acc: 0.9890 - val_loss: 0.0267 - val_acc: 0.9912\n",
      "Epoch 8/15\n",
      "60000/60000 [==============================] - 3s - loss: 0.0307 - acc: 0.9899 - val_loss: 0.0255 - val_acc: 0.9918\n",
      "Epoch 9/15\n",
      "60000/60000 [==============================] - 3s - loss: 0.0282 - acc: 0.9910 - val_loss: 0.0283 - val_acc: 0.9918\n",
      "Epoch 10/15\n",
      "60000/60000 [==============================] - 3s - loss: 0.0269 - acc: 0.9914 - val_loss: 0.0257 - val_acc: 0.9918\n",
      "Epoch 11/15\n",
      "60000/60000 [==============================] - 3s - loss: 0.0255 - acc: 0.9919 - val_loss: 0.0272 - val_acc: 0.9912\n",
      "Epoch 12/15\n",
      "60000/60000 [==============================] - 3s - loss: 0.0223 - acc: 0.9926 - val_loss: 0.0285 - val_acc: 0.9922\n",
      "Epoch 13/15\n",
      "60000/60000 [==============================] - 3s - loss: 0.0217 - acc: 0.9930 - val_loss: 0.0272 - val_acc: 0.9923\n",
      "Epoch 14/15\n",
      "60000/60000 [==============================] - 3s - loss: 0.0203 - acc: 0.9931 - val_loss: 0.0264 - val_acc: 0.9928\n",
      "Epoch 15/15\n",
      "60000/60000 [==============================] - 3s - loss: 0.0187 - acc: 0.9935 - val_loss: 0.0246 - val_acc: 0.9920\n"
     ]
    },
    {
     "data": {
      "text/plain": [
       "<keras.callbacks.History at 0x7f3400077f10>"
      ]
     },
     "execution_count": 14,
     "metadata": {},
     "output_type": "execute_result"
    }
   ],
   "source": [
    "model.fit(X_train, Y_train,\n",
    "          batch_size=batch_size,\n",
    "          epochs=epochs,\n",
    "          verbose=1,\n",
    "          validation_data=(X_test, Y_test))"
   ]
  },
  {
   "cell_type": "code",
   "execution_count": 15,
   "metadata": {},
   "outputs": [
    {
     "name": "stdout",
     "output_type": "stream",
     "text": [
      "Test loss: 0.0246022627853\n",
      "Test accuracy: 0.992\n"
     ]
    }
   ],
   "source": [
    "score = model.evaluate(X_test, Y_test, verbose=0)\n",
    "print('Test loss:', score[0])\n",
    "print('Test accuracy:', score[1])"
   ]
  }
 ],
 "metadata": {
  "kernelspec": {
   "display_name": "Python 3",
   "language": "python",
   "name": "python3"
  },
  "language_info": {
   "codemirror_mode": {
    "name": "ipython",
    "version": 3
   },
   "file_extension": ".py",
   "mimetype": "text/x-python",
   "name": "python",
   "nbconvert_exporter": "python",
   "pygments_lexer": "ipython3",
   "version": "3.6.0"
  }
 },
 "nbformat": 4,
 "nbformat_minor": 2
}
